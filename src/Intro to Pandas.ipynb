{
 "cells": [
  {
   "cell_type": "code",
   "execution_count": 1,
   "metadata": {},
   "outputs": [],
   "source": [
    "import numpy as np\n",
    "import pandas as pd\n",
    "from pandas import DataFrame, Series\n",
    "\n",
    "pd.set_option('display.notebook_repr_html', False)\n",
    "pd.set_option('display.max_columns', 10)\n",
    "pd.set_option('display.max_rows', 10)\n",
    "\n",
    "%matplotlib inline\n",
    "import matplotlib.pyplot as plt\n",
    "pd.options.display.mpl_style = 'default'"
   ]
  },
  {
   "cell_type": "code",
   "execution_count": 15,
   "metadata": {},
   "outputs": [],
   "source": [
    "# create a four item DataFrame\n",
    "s = Series([1,2,3,4])"
   ]
  },
  {
   "cell_type": "code",
   "execution_count": 17,
   "metadata": {},
   "outputs": [
    {
     "data": {
      "text/plain": [
       "0    1\n1    2\n2    3\n3    4\ndtype: int64"
      ]
     },
     "execution_count": 17,
     "output_type": "execute_result",
     "metadata": {}
    }
   ],
   "source": [
    "s"
   ]
  },
  {
   "cell_type": "code",
   "execution_count": 4,
   "metadata": {},
   "outputs": [],
   "source": [
    "dates = pd.date_range('2014-07-01', '2014-07-06')\n",
    "temperature = Series([80,82,85,90,83,87], index = dates)"
   ]
  },
  {
   "cell_type": "code",
   "execution_count": 5,
   "metadata": {},
   "outputs": [
    {
     "name": "stderr",
     "output_type": "stream",
     "text": [
      "The syntax of the command is incorrect.\n"
     ]
    }
   ],
   "source": [
    "!type results_0_0.csv #!cat data/test1.csv # on non-windows systems"
   ]
  },
  {
   "cell_type": "code",
   "execution_count": 6,
   "metadata": {},
   "outputs": [
    {
     "data": {
      "text/plain": [
       "       End Time Wind Speed Vestas 126 3.3MW Power Output  \\\nDate                                                       \nNaN         NaN        m/s                            kW   \nJan 1      1:00      6.014                      7642.170   \nJan 1      2:00      5.208                      4923.124   \nJan 1      3:00      4.735                      3658.328   \nJan 1      4:00      1.592                         0.000   \n...         ...        ...                           ...   \nDec 31    20:00      7.656                     15556.104   \nDec 31    21:00     12.259                     43560.492   \nDec 31    22:00     12.761                     44021.406   \nDec 31    23:00      7.254                     13618.483   \nJan 1      0:00      6.042                      7777.205   \n\n       Vestas 126 3.3MW Operating Status GAMESA 114 2.5MW Power Output  \\\nDate                                                                     \nNaN                               status                            kW   \nJan 1                              0.000                     11394.355   \nJan 1                              0.000                      8746.447   \nJan 1                              0.000                      7456.432   \nJan 1                              0.000                         0.000   \n...                                  ...                           ...   \nDec 31                             0.000                     21033.314   \nDec 31                             0.000                     28585.330   \nDec 31                             0.000                     28585.330   \nDec 31                             0.000                     19388.480   \nJan 1                              0.000                     11607.236   \n\n            ...      DC Required Operating Capacity AC Operating Capacity  \\\nDate        ...                                                             \nNaN         ...                                  kW                    kW   \nJan 1       ...                               0.000             19046.525   \nJan 1       ...                               0.000             13679.571   \nJan 1       ...                               0.000             11124.760   \nJan 1       ...                               0.000                10.000   \n...         ...                                 ...                   ...   \nDec 31      ...                               0.000             36599.418   \nDec 31      ...                               0.000             72155.820   \nDec 31      ...                               0.000             72616.734   \nDec 31      ...                               0.000             33016.965   \nJan 1       ...                               0.000             19394.441   \n\n       DC Operating Capacity Battery Delta Q Cost Per Hour  \nDate                                                        \nNaN                       kW               ?             $  \nJan 1               1423.025           0.000     -1903.653  \nJan 1               1423.025           0.000     -1366.957  \nJan 1               1423.025           0.000     -1111.476  \nJan 1               1423.025           0.000         0.000  \n...                      ...             ...           ...  \nDec 31              1423.025           0.000     -3658.942  \nDec 31              1423.025           0.000         0.000  \nDec 31              1423.025           0.000         0.000  \nDec 31              1423.025           0.000     -3300.697  \nJan 1               1423.025           0.000     -1938.444  \n\n[8761 rows x 31 columns]"
      ]
     },
     "execution_count": 6,
     "output_type": "execute_result",
     "metadata": {}
    }
   ],
   "source": [
    "df = pd.read_csv('results_0_0.csv',sep=None, delimiter='\\t', index_col=0)\n",
    "df"
   ]
  },
  {
   "cell_type": "code",
   "execution_count": 29,
   "metadata": {},
   "outputs": [],
   "source": [
    "def read_csv(content):\n",
    "    columns = next(content).strip().split('\\t')\n",
    "    units = next(content).strip().split('\\t')\n",
    "    units.insert(0,'')\n",
    "    units.insert(0,'')\n",
    "    obs = pd.read_table(content, sep=None, delimiter='\\t', header=None)\n",
    "    obs.columns = ['{c} ({u})'.format(c=col, u=unit)\n",
    "                   for col, unit in zip(columns, units)]\n",
    "    obs[\"Time\"] = obs[\"Date ()\"].map(str) + ' ' + obs[\"End Time ()\"]\n",
    "    obs[\"Time\"] = pd.to_datetime(pd.Series(obs[\"Time\"]))\n",
    "    obs = obs.drop(\"Date ()\", 1)\n",
    "    obs = obs.drop(\"End Time ()\",1)\n",
    "    obs = obs.reindex_axis(['Time'] + list(obs.columns[:-1]), axis=1)\n",
    "    return obs\n",
    "\n",
    "content = open('results_0_0.csv', 'r') \n",
    "obs = read_csv(content)\n",
    "print(obs)"
   ]
  },
  {
   "cell_type": "code",
   "execution_count": 19,
   "metadata": {},
   "outputs": [
    {
     "data": {
      "text/plain": [
       "                    Time  Wind Speed (m/s)  \\\n0    2015-01-01 01:00:00             6.014   \n1    2015-01-01 02:00:00             5.208   \n2    2015-01-01 03:00:00             4.735   \n3    2015-01-01 04:00:00             1.592   \n4    2015-01-01 05:00:00             2.212   \n...                  ...               ...   \n8755 2015-12-31 20:00:00             7.656   \n8756 2015-12-31 21:00:00            12.259   \n8757 2015-12-31 22:00:00            12.761   \n8758 2015-12-31 23:00:00             7.254   \n8759 2015-01-01 00:00:00             6.042   \n\n      Vestas 126 3.3MW Power Output (kW)  \\\n0                               7642.170   \n1                               4923.124   \n2                               3658.328   \n3                                  0.000   \n4                                  0.000   \n...                                  ...   \n8755                           15556.104   \n8756                           43560.492   \n8757                           44021.406   \n8758                           13618.483   \n8759                            7777.205   \n\n      Vestas 126 3.3MW Operating Status (status)  \\\n0                                              0   \n1                                              0   \n2                                              0   \n3                                              0   \n4                                              0   \n...                                          ...   \n8755                                           0   \n8756                                           0   \n8757                                           0   \n8758                                           0   \n8759                                           0   \n\n      GAMESA 114 2.5MW Power Output (kW)        ...          \\\n0                              11394.355        ...           \n1                               8746.447        ...           \n2                               7456.432        ...           \n3                                  0.000        ...           \n4                                  0.000        ...           \n...                                  ...        ...           \n8755                           21033.314        ...           \n8756                           28585.330        ...           \n8757                           28585.330        ...           \n8758                           19388.480        ...           \n8759                           11607.236        ...           \n\n      DC Required Operating Capacity (kW)  AC Operating Capacity (kW)  \\\n0                                       0                   19046.525   \n1                                       0                   13679.571   \n2                                       0                   11124.760   \n3                                       0                      10.000   \n4                                       0                      10.000   \n...                                   ...                         ...   \n8755                                    0                   36599.418   \n8756                                    0                   72155.820   \n8757                                    0                   72616.734   \n8758                                    0                   33016.965   \n8759                                    0                   19394.441   \n\n      DC Operating Capacity (kW)  Battery Delta Q (?)  Cost Per Hour ($)  \n0                       1423.025                    0          -1903.653  \n1                       1423.025                    0          -1366.957  \n2                       1423.025                    0          -1111.476  \n3                       1423.025                    0              0.000  \n4                       1423.025                    0              0.000  \n...                          ...                  ...                ...  \n8755                    1423.025                    0          -3658.942  \n8756                    1423.025                    0              0.000  \n8757                    1423.025                    0              0.000  \n8758                    1423.025                    0          -3300.697  \n8759                    1423.025                    0          -1938.444  \n\n[8760 rows x 31 columns]"
      ]
     },
     "execution_count": 19,
     "output_type": "execute_result",
     "metadata": {}
    }
   ],
   "source": [
    "obs"
   ]
  },
  {
   "cell_type": "code",
   "execution_count": 21,
   "metadata": {},
   "outputs": [
    {
     "data": {
      "text/plain": [
       "                  Open        High         Low       Close   Volume  \\\nDate                                                                  \n2015-06-08  533.309998  534.119995  526.239990  526.830017  1520600   \n2015-06-09  527.559998  529.200012  523.010010  526.690002  1441600   \n2015-06-10  529.359985  538.359985  529.349976  536.690002  1811400   \n2015-06-11  538.424988  538.979980  533.020020  534.609985  1205000   \n2015-06-12  531.599976  533.119995  530.159973  532.330017   952400   \n\n             Adj Close  \nDate                    \n2015-06-08  526.830017  \n2015-06-09  526.690002  \n2015-06-10  536.690002  \n2015-06-11  534.609985  \n2015-06-12  532.330017  "
      ]
     },
     "execution_count": 21,
     "output_type": "execute_result",
     "metadata": {}
    }
   ],
   "source": [
    "# import stock ticker information from Yahoo\n",
    "from pandas.io.data import DataReader\n",
    "from datetime import date\n",
    "from dateutil.relativedelta import relativedelta\n",
    "\n",
    "goog = DataReader(\"GOOG\", \"yahoo\", date.today() + relativedelta(months=-3))\n",
    "goog.tail()"
   ]
  },
  {
   "cell_type": "code",
   "execution_count": null,
   "metadata": {},
   "outputs": [],
   "source": [
    "obs['Vestas 126 3.3MW Power Output (kW)'].plot()\n"
   ]
  },
  {
   "cell_type": "code",
   "execution_count": null,
   "metadata": {},
   "outputs": [],
   "source": [
    ""
   ]
  }
 ],
 "metadata": {
  "kernelspec": {
   "display_name": "Python 3",
   "language": "python",
   "name": "python3"
  },
  "language_info": {
   "codemirror_mode": {
    "name": "ipython",
    "version": 3.0
   },
   "file_extension": ".py",
   "mimetype": "text/x-python",
   "name": "python",
   "nbconvert_exporter": "python",
   "pygments_lexer": "ipython3",
   "version": "3.4.3"
  }
 },
 "nbformat": 4,
 "nbformat_minor": 0
}