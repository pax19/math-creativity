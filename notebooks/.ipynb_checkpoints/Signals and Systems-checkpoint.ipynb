{
 "cells": [
  {
   "cell_type": "code",
   "execution_count": null,
   "metadata": {
    "collapsed": true
   },
   "outputs": [],
   "source": [
    "def unit_step_function(time):\n",
    "    zero = (t == 0)\n",
    "    position = (t > 0)\n",
    "    y = zero / 2 + position\n",
    "\n",
    "\n",
    "# for algorithms that only support binary features - Male = yes/no female = yes/no\n",
    "def cat_to_num(data):\n",
    "    categories = unique(data)\n",
    "    features = []\n",
    "    for category in categories:\n",
    "        binary = (data == category)\n",
    "        features.append(binary.astype(\"int\"))\n",
    "    return features\n"
   ]
  }
 ],
 "metadata": {
  "kernelspec": {
   "display_name": "Python 3",
   "language": "python",
   "name": "python3"
  },
  "language_info": {
   "codemirror_mode": {
    "name": "ipython",
    "version": 3
   },
   "file_extension": ".py",
   "mimetype": "text/x-python",
   "name": "python",
   "nbconvert_exporter": "python",
   "pygments_lexer": "ipython3",
   "version": "3.4.3"
  }
 },
 "nbformat": 4,
 "nbformat_minor": 0
}
